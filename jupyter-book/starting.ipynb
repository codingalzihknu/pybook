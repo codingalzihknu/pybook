{
 "cells": [
  {
   "attachments": {},
   "cell_type": "markdown",
   "metadata": {},
   "source": [
    "# 프로그래밍 시작하기"
   ]
  },
  {
   "attachments": {},
   "cell_type": "markdown",
   "metadata": {},
   "source": [
    "간단한 예제를 이용하여 파이썬 프로그래밍을 맛보기 해본다."
   ]
  },
  {
   "attachments": {},
   "cell_type": "markdown",
   "metadata": {},
   "source": [
    "## 파이썬 시작하기"
   ]
  },
  {
   "attachments": {},
   "cell_type": "markdown",
   "metadata": {},
   "source": [
    "다음 명령을 실행하면 `Hello, world` 문구가 화면에 출력된다."
   ]
  },
  {
   "cell_type": "code",
   "execution_count": 1,
   "metadata": {},
   "outputs": [
    {
     "name": "stdout",
     "output_type": "stream",
     "text": [
      "Hello, world!\n"
     ]
    }
   ],
   "source": [
    "print(\"Hello, world!\")"
   ]
  },
  {
   "attachments": {},
   "cell_type": "markdown",
   "metadata": {},
   "source": [
    "### 변수 할당"
   ]
  },
  {
   "attachments": {},
   "cell_type": "markdown",
   "metadata": {},
   "source": [
    "계속해서 아래 명령문도 실행해보자. "
   ]
  },
  {
   "cell_type": "code",
   "execution_count": 2,
   "metadata": {},
   "outputs": [],
   "source": [
    "a = 3\n",
    "b = 2 * a"
   ]
  },
  {
   "attachments": {},
   "cell_type": "markdown",
   "metadata": {},
   "source": [
    "이제 `a` 와 `b`를 변수로 활용할 수 있고\n",
    "원하는 모든 연산을 수행할 수 있다."
   ]
  },
  {
   "cell_type": "code",
   "execution_count": 3,
   "metadata": {},
   "outputs": [
    {
     "data": {
      "text/plain": [
       "18"
      ]
     },
     "execution_count": 3,
     "metadata": {},
     "output_type": "execute_result"
    }
   ],
   "source": [
    "a * b "
   ]
  },
  {
   "attachments": {},
   "cell_type": "markdown",
   "metadata": {},
   "source": [
    "이처럼 변수와 값을 연결시키는 것을 **변수 할당**<font size=\"2\">variable assignment</font>\n",
    "명령문이라 한다.\n",
    "변수가 가리키는 값을 확인하려면 보통 다음과 같이 `print()` 함수를 이용한다."
   ]
  },
  {
   "cell_type": "code",
   "execution_count": 4,
   "metadata": {},
   "outputs": [
    {
     "name": "stdout",
     "output_type": "stream",
     "text": [
      "3\n"
     ]
    }
   ],
   "source": [
    "print(a)"
   ]
  },
  {
   "cell_type": "code",
   "execution_count": 5,
   "metadata": {},
   "outputs": [
    {
     "name": "stdout",
     "output_type": "stream",
     "text": [
      "6\n"
     ]
    }
   ],
   "source": [
    "print(b)"
   ]
  },
  {
   "attachments": {},
   "cell_type": "markdown",
   "metadata": {},
   "source": [
    "프린트 함수는 두 개 이상의 값을 동시체 출력할 수 있다.\n",
    "지정된 두 인자는 공백(스페이스)로 구분된다."
   ]
  },
  {
   "cell_type": "code",
   "execution_count": 6,
   "metadata": {},
   "outputs": [
    {
     "name": "stdout",
     "output_type": "stream",
     "text": [
      "3 6\n"
     ]
    }
   ],
   "source": [
    "print(a, b)"
   ]
  },
  {
   "attachments": {},
   "cell_type": "markdown",
   "metadata": {},
   "source": [
    ":::{admonition} 코드 셀 실행\n",
    ":class: tip\n",
    "\n",
    "주피터 노트북의 코드 셀<font size=\"2\">code cell</font>은\n",
    "IPython 콘솔처럼 명령문을 실행할 수 있으며 \n",
    "이어지는 코드 셀은 이전에 실행된 코드 셀의\n",
    "내용을 이어 받는다.\n",
    "하지만 코드 셀은 콘솔과는 달리 여러 줄의 파이썬 명령문을 \n",
    "마치 편집기로 작성된 하나의 코드 파일을 실행하는 것처럼\n",
    "전체 명령문을 차례대로 실행할 수 있다.\n",
    ":::"
   ]
  },
  {
   "attachments": {},
   "cell_type": "markdown",
   "metadata": {},
   "source": [
    "### 값과 변수의 자료형"
   ]
  },
  {
   "attachments": {},
   "cell_type": "markdown",
   "metadata": {},
   "source": [
    "파이썬에 사용되는 값과 선언된 변수는 모두 자료형를 갖는다.\n",
    "정수의 자료형은 `int`이며, \n",
    "`type()` 함수를 이용하여 확인할 수 있다."
   ]
  },
  {
   "cell_type": "code",
   "execution_count": 7,
   "metadata": {},
   "outputs": [
    {
     "data": {
      "text/plain": [
       "int"
      ]
     },
     "execution_count": 7,
     "metadata": {},
     "output_type": "execute_result"
    }
   ],
   "source": [
    "type(6)"
   ]
  },
  {
   "attachments": {},
   "cell_type": "markdown",
   "metadata": {},
   "source": [
    "선언된 변수의 자료형은 할당된 값의 자료형으로 지정된다."
   ]
  },
  {
   "cell_type": "code",
   "execution_count": 8,
   "metadata": {},
   "outputs": [
    {
     "data": {
      "text/plain": [
       "int"
      ]
     },
     "execution_count": 8,
     "metadata": {},
     "output_type": "execute_result"
    }
   ],
   "source": [
    "type(b)"
   ]
  },
  {
   "attachments": {},
   "cell_type": "markdown",
   "metadata": {},
   "source": [
    "앞서 보았듯이 파이썬의 변수 할당 명령문은 변수에 할당되는 값의 자료형을 지정하지 않으며,\n",
    "이는 C, C++, C#, 자바 등 다른 프로그래밍 언어와의 차이점 중에 하나다.\n",
    "\n",
    "예를 들어, C 언어에서 변수 선언은 아래와 같이 변수의 자료형을 지정한다.\n",
    "\n",
    "```c\n",
    "int b = 6;\n",
    "```\n",
    "\n",
    "따라서 문자열 등 다른 자료형의 값을 가리키도록 하는 것을 허용하지 않는다.\n",
    "\n",
    "```c\n",
    "b = \"hello\";  // 허용되지 않음\n",
    "```\n",
    "\n",
    "하지만 파이썬에서는 변수의 자료형을 지정하지 않았기에 임의의 자료형의 값으로 \n",
    "변경할 수 있다."
   ]
  },
  {
   "cell_type": "code",
   "execution_count": 9,
   "metadata": {},
   "outputs": [],
   "source": [
    "b = \"hello\""
   ]
  },
  {
   "attachments": {},
   "cell_type": "markdown",
   "metadata": {},
   "source": [
    "변수의 자료형은 변경된 값의 자료형으로 함께 바뀐다.\n",
    "문자열의 자료형은 `str` 이다."
   ]
  },
  {
   "cell_type": "code",
   "execution_count": 10,
   "metadata": {},
   "outputs": [
    {
     "data": {
      "text/plain": [
       "str"
      ]
     },
     "execution_count": 10,
     "metadata": {},
     "output_type": "execute_result"
    }
   ],
   "source": [
    "type(b)"
   ]
  },
  {
   "attachments": {},
   "cell_type": "markdown",
   "metadata": {},
   "source": [
    "## 파이썬의 기초 자료형"
   ]
  },
  {
   "attachments": {},
   "cell_type": "markdown",
   "metadata": {},
   "source": [
    "정수, 부동소수점, 부울값 등 세 종류의 자료형을 기본으로 제공한다."
   ]
  },
  {
   "attachments": {},
   "cell_type": "markdown",
   "metadata": {},
   "source": [
    "### 정수(int)"
   ]
  },
  {
   "attachments": {},
   "cell_type": "markdown",
   "metadata": {},
   "source": [
    "-2, -1, 0, 1, 2 등의 정수는 `int` 유형<font size=\"2\">type</font>의 값이다.\n",
    "정수는 사칙연산, 변수 할당 등에 사용된다."
   ]
  },
  {
   "cell_type": "code",
   "execution_count": 11,
   "metadata": {},
   "outputs": [
    {
     "data": {
      "text/plain": [
       "3"
      ]
     },
     "execution_count": 11,
     "metadata": {},
     "output_type": "execute_result"
    }
   ],
   "source": [
    "1 + 2"
   ]
  },
  {
   "cell_type": "code",
   "execution_count": 12,
   "metadata": {},
   "outputs": [
    {
     "data": {
      "text/plain": [
       "int"
      ]
     },
     "execution_count": 12,
     "metadata": {},
     "output_type": "execute_result"
    }
   ],
   "source": [
    "a = 4\n",
    "type(a)"
   ]
  },
  {
   "cell_type": "code",
   "execution_count": 13,
   "metadata": {},
   "outputs": [
    {
     "data": {
      "text/plain": [
       "8"
      ]
     },
     "execution_count": 13,
     "metadata": {},
     "output_type": "execute_result"
    }
   ],
   "source": [
    "a * 2"
   ]
  },
  {
   "attachments": {},
   "cell_type": "markdown",
   "metadata": {},
   "source": [
    "### 부동소수점(float)"
   ]
  },
  {
   "attachments": {},
   "cell_type": "markdown",
   "metadata": {},
   "source": [
    "**부동소수점**은 유한소수를 가리키며 `float` 유형의 값이다.\n",
    "정수와 마찬가지로 사칙연산, 변수 할당 등에 사용된다."
   ]
  },
  {
   "cell_type": "code",
   "execution_count": 14,
   "metadata": {},
   "outputs": [
    {
     "data": {
      "text/plain": [
       "5.4"
      ]
     },
     "execution_count": 14,
     "metadata": {},
     "output_type": "execute_result"
    }
   ],
   "source": [
    "2.1 + 3.3"
   ]
  },
  {
   "cell_type": "code",
   "execution_count": 15,
   "metadata": {},
   "outputs": [
    {
     "data": {
      "text/plain": [
       "float"
      ]
     },
     "execution_count": 15,
     "metadata": {},
     "output_type": "execute_result"
    }
   ],
   "source": [
    "c = 2.1\n",
    "type(c)"
   ]
  },
  {
   "attachments": {},
   "cell_type": "markdown",
   "metadata": {},
   "source": [
    "정수와의 연산도 가능한데, 이때 정수를 부동소수점으로 취급한다. \n",
    "예를 들어 3은 3.0으로 처리된다."
   ]
  },
  {
   "cell_type": "code",
   "execution_count": 16,
   "metadata": {},
   "outputs": [
    {
     "data": {
      "text/plain": [
       "5.3"
      ]
     },
     "execution_count": 16,
     "metadata": {},
     "output_type": "execute_result"
    }
   ],
   "source": [
    "2.3 + 3"
   ]
  },
  {
   "cell_type": "code",
   "execution_count": 17,
   "metadata": {},
   "outputs": [
    {
     "data": {
      "text/plain": [
       "5.3"
      ]
     },
     "execution_count": 17,
     "metadata": {},
     "output_type": "execute_result"
    }
   ],
   "source": [
    "2.3 + 3.0"
   ]
  },
  {
   "attachments": {},
   "cell_type": "markdown",
   "metadata": {},
   "source": [
    "### 부울값(bool)"
   ]
  },
  {
   "attachments": {},
   "cell_type": "markdown",
   "metadata": {},
   "source": [
    "참과 거짓을 의미하는 `True`와 `False`를 \n",
    "**부울값**<font size=\"2\">boolean</font>\n",
    "또는 **진리값**이라 한다.\n",
    "부울값은 `bool` 유형을 갖는 **유일한 두 개의 값**이다."
   ]
  },
  {
   "cell_type": "code",
   "execution_count": 18,
   "metadata": {},
   "outputs": [
    {
     "data": {
      "text/plain": [
       "bool"
      ]
     },
     "execution_count": 18,
     "metadata": {},
     "output_type": "execute_result"
    }
   ],
   "source": [
    "type(True)"
   ]
  },
  {
   "cell_type": "code",
   "execution_count": 19,
   "metadata": {},
   "outputs": [
    {
     "data": {
      "text/plain": [
       "bool"
      ]
     },
     "execution_count": 19,
     "metadata": {},
     "output_type": "execute_result"
    }
   ],
   "source": [
    "d = False\n",
    "type(d)"
   ]
  },
  {
   "attachments": {},
   "cell_type": "markdown",
   "metadata": {},
   "source": [
    "등식, 부등식 등이 부울값을 가리키는 대표적인\n",
    "**표현식**<font size=\"2\">expression</font>이며,\n",
    "이렇게 부울값을 가리키는 표현식을\n",
    "**논리식**<font size=\"2\">logical expression</font>라 한다."
   ]
  },
  {
   "cell_type": "code",
   "execution_count": 20,
   "metadata": {},
   "outputs": [
    {
     "data": {
      "text/plain": [
       "False"
      ]
     },
     "execution_count": 20,
     "metadata": {},
     "output_type": "execute_result"
    }
   ],
   "source": [
    "3 > 4"
   ]
  },
  {
   "cell_type": "code",
   "execution_count": 21,
   "metadata": {},
   "outputs": [],
   "source": [
    "test = (1.0 == 1)"
   ]
  },
  {
   "cell_type": "code",
   "execution_count": 22,
   "metadata": {},
   "outputs": [
    {
     "data": {
      "text/plain": [
       "True"
      ]
     },
     "execution_count": 22,
     "metadata": {},
     "output_type": "execute_result"
    }
   ],
   "source": [
    "test"
   ]
  },
  {
   "cell_type": "code",
   "execution_count": 23,
   "metadata": {},
   "outputs": [
    {
     "data": {
      "text/plain": [
       "bool"
      ]
     },
     "execution_count": 23,
     "metadata": {},
     "output_type": "execute_result"
    }
   ],
   "source": [
    "type(test)"
   ]
  },
  {
   "attachments": {},
   "cell_type": "markdown",
   "metadata": {},
   "source": [
    "## 계산기"
   ]
  },
  {
   "attachments": {},
   "cell_type": "markdown",
   "metadata": {},
   "source": [
    "파이썬을 계산기로 활용할 수 있다."
   ]
  },
  {
   "cell_type": "code",
   "execution_count": 24,
   "metadata": {},
   "outputs": [
    {
     "data": {
      "text/plain": [
       "21"
      ]
     },
     "execution_count": 24,
     "metadata": {},
     "output_type": "execute_result"
    }
   ],
   "source": [
    "7 * 3"
   ]
  },
  {
   "attachments": {},
   "cell_type": "markdown",
   "metadata": {},
   "source": [
    "정수에 점(`.`)을 찍으면 부동소수점으로 처리된다."
   ]
  },
  {
   "cell_type": "code",
   "execution_count": 25,
   "metadata": {},
   "outputs": [
    {
     "data": {
      "text/plain": [
       "21.0"
      ]
     },
     "execution_count": 25,
     "metadata": {},
     "output_type": "execute_result"
    }
   ],
   "source": [
    "7 * 3."
   ]
  },
  {
   "attachments": {},
   "cell_type": "markdown",
   "metadata": {},
   "source": [
    "지수승은 `**` 를 사용한다."
   ]
  },
  {
   "cell_type": "code",
   "execution_count": 26,
   "metadata": {},
   "outputs": [
    {
     "data": {
      "text/plain": [
       "1024"
      ]
     },
     "execution_count": 26,
     "metadata": {},
     "output_type": "execute_result"
    }
   ],
   "source": [
    "2 ** 10"
   ]
  },
  {
   "attachments": {},
   "cell_type": "markdown",
   "metadata": {},
   "source": [
    "정수 나눗셈의 몫(`//`)과 나머지(`%`) 연산도 지원된다."
   ]
  },
  {
   "cell_type": "code",
   "execution_count": 27,
   "metadata": {},
   "outputs": [
    {
     "data": {
      "text/plain": [
       "2"
      ]
     },
     "execution_count": 27,
     "metadata": {},
     "output_type": "execute_result"
    }
   ],
   "source": [
    "8 // 3"
   ]
  },
  {
   "cell_type": "code",
   "execution_count": 28,
   "metadata": {},
   "outputs": [
    {
     "data": {
      "text/plain": [
       "2"
      ]
     },
     "execution_count": 28,
     "metadata": {},
     "output_type": "execute_result"
    }
   ],
   "source": [
    "8 % 3"
   ]
  },
  {
   "attachments": {},
   "cell_type": "markdown",
   "metadata": {},
   "source": [
    "몫 계산과 나눗셈 연산은 다르다.\n",
    "몫은 정수 계산이며, 나눗셈은 부동소수점 연산이다."
   ]
  },
  {
   "cell_type": "code",
   "execution_count": 29,
   "metadata": {},
   "outputs": [
    {
     "data": {
      "text/plain": [
       "2.6666666666666665"
      ]
     },
     "execution_count": 29,
     "metadata": {},
     "output_type": "execute_result"
    }
   ],
   "source": [
    "8 / 3"
   ]
  },
  {
   "attachments": {},
   "cell_type": "markdown",
   "metadata": {},
   "source": [
    "나눗셈의 몫이 정수인 경우엔 차이를 두지 않는다."
   ]
  },
  {
   "cell_type": "code",
   "execution_count": 30,
   "metadata": {},
   "outputs": [
    {
     "data": {
      "text/plain": [
       "True"
      ]
     },
     "execution_count": 30,
     "metadata": {},
     "output_type": "execute_result"
    }
   ],
   "source": [
    "(4 / 2) == (4 // 2)"
   ]
  },
  {
   "attachments": {},
   "cell_type": "markdown",
   "metadata": {},
   "source": [
    ":::{admonition} 형변환 함수\n",
    ":class: info\n",
    "\n",
    "`2.3 + 3`을 실행하면 파이썬 실행기<font size=\"2\">interpreter</font>는\n",
    "내부적으로 정수를 부동소수점으로 형변환하는 함수 `float()`를 이용하여\n",
    "정수 `3`을 부동소수점 `3.0`으로 유형을 변환한 후에\n",
    "덧셈을 처리한다. \n",
    "이렇게 값의 유형을 적절하게 자동 변환하는 기능을 \n",
    "**형변환**<font size=\"2\">type casting</font>이라 부른다.\n",
    "\n",
    "```python\n",
    ">>> float(3)\n",
    "3.0\n",
    "```\n",
    "\n",
    "`float()` 함수 이외에 `int()`, `str()`, `list()` 등 다양한 형변환 함수를 앞으로 \n",
    "만나게 될 것이다.\n",
    ":::"
   ]
  },
  {
   "attachments": {},
   "cell_type": "markdown",
   "metadata": {},
   "source": [
    ":::{admonition} 함수 이름 표기법\n",
    ":class: tip\n",
    "\n",
    "`float`는 부동소수점 자료형을 가리키기도 하고 \n",
    "형변환 함수를 가리키기도 한다. \n",
    "여기서는 자료형과 함수 이름을 구분하기 위해 \n",
    "함수는 `int()`, `float()`, `str()`, `list()` 등처럼\n",
    "함수 이름과 괄호를 함께 사용하는 표기법 관행을 따른다.\n",
    ":::"
   ]
  },
  {
   "attachments": {},
   "cell_type": "markdown",
   "metadata": {},
   "source": [
    "## 주석"
   ]
  },
  {
   "attachments": {},
   "cell_type": "markdown",
   "metadata": {},
   "source": [
    "프로그램에 사용된 명령문에 설명을 추가하면 \n",
    "작성된 프로그램의 작동 원리를 보다 쉽게 이해할 수 있다.\n",
    "이와 같이 프로그램의 실행과는 무관하지만 명령문, 함수 등의 \n",
    "기능, 아이디어 등을 설명하는 문장이\n",
    "**주석**<font size=\"2\">comment</font>이다.\n",
    "주석은 일반 자연어를 사용하며,\n",
    "프로그램이 실행될 때 파이썬 실행기에 의해 무시된다.\n",
    "\n",
    "주석은 한 줄 또는 여러 줄로 작성될 수 있다.\n",
    "한 줄 주석은 우물 정(영어로 샵<font size=\"2\">sharp</font>) 기호(`#`)로 시작한다."
   ]
  },
  {
   "cell_type": "code",
   "execution_count": 31,
   "metadata": {},
   "outputs": [],
   "source": [
    "# speed는 시속을 가리키는 변수이다.\n",
    "\n",
    "speed = 90 # 속도 단위는 km이다."
   ]
  },
  {
   "attachments": {},
   "cell_type": "markdown",
   "metadata": {},
   "source": [
    "여러 줄 주석은 작은따옴표 세 개(`'''`)로 감싼다."
   ]
  },
  {
   "cell_type": "code",
   "execution_count": 32,
   "metadata": {},
   "outputs": [
    {
     "name": "stdout",
     "output_type": "stream",
     "text": [
      "0\n",
      "1\n"
     ]
    }
   ],
   "source": [
    "print(0)\n",
    "'''\n",
    "여러 줄 주석은\n",
    "이렇게 사용합니다.\n",
    "'''\n",
    "print(1)"
   ]
  },
  {
   "attachments": {},
   "cell_type": "markdown",
   "metadata": {},
   "source": [
    "## 문자열"
   ]
  },
  {
   "attachments": {},
   "cell_type": "markdown",
   "metadata": {},
   "source": [
    "**문자열**은 문자와 기호들의 나열을 의미하며 작은따옴표 또는 큰따옴표로 감싸인다.\n",
    "`print()` 함수는 지정된 문자열을 화면에 출력할 때 문자열을 감싸는 따옴표를 제고하고 \n",
    "동시에 문자열에 포함된 특별한 기능을 수행하는 문자를 적절하게 변환해서 보여준다."
   ]
  },
  {
   "cell_type": "code",
   "execution_count": 33,
   "metadata": {},
   "outputs": [
    {
     "data": {
      "text/plain": [
       "'spam eggs'"
      ]
     },
     "execution_count": 33,
     "metadata": {},
     "output_type": "execute_result"
    }
   ],
   "source": [
    "'spam eggs'"
   ]
  },
  {
   "cell_type": "code",
   "execution_count": 34,
   "metadata": {},
   "outputs": [
    {
     "name": "stdout",
     "output_type": "stream",
     "text": [
      "spam eggs\n"
     ]
    }
   ],
   "source": [
    "print('spam eggs')"
   ]
  },
  {
   "attachments": {},
   "cell_type": "markdown",
   "metadata": {},
   "source": [
    "작은따옴표로 감싸인 문자열이 작은따옴표를 포함하도록 하려면\n",
    "백슬래시 `\\`기호를 작은따옴표 기호 바로 앞에 추가한다."
   ]
  },
  {
   "cell_type": "code",
   "execution_count": 35,
   "metadata": {},
   "outputs": [
    {
     "data": {
      "text/plain": [
       "\"doesn't\""
      ]
     },
     "execution_count": 35,
     "metadata": {},
     "output_type": "execute_result"
    }
   ],
   "source": [
    "'doesn\\'t'"
   ]
  },
  {
   "cell_type": "code",
   "execution_count": 36,
   "metadata": {},
   "outputs": [
    {
     "name": "stdout",
     "output_type": "stream",
     "text": [
      "doesn't\n"
     ]
    }
   ],
   "source": [
    "print('doesn\\'t')"
   ]
  },
  {
   "attachments": {},
   "cell_type": "markdown",
   "metadata": {},
   "source": [
    ":::{admonition} 슬래시 기호(&#x5C;)와 원화 기호(&#x20a9;)\n",
    ":class: info\n",
    "\n",
    "백슬래시 키는 키보드의 <kbd>Enter</kbd> 키 바로 위에 위치하는데\n",
    "한글 키보드의 경우 원화 기호 키 <kbd>&#x20a9;</kbd> 가 대신 \n",
    "자리잡고 있을 수 있다.\n",
    "그리고 모니터 화면에도 사용하는 운영체제의 언어 설정에 따라\n",
    "원화 기호(&#x20a9;)와 백슬래시 기호(&#x5C;) 둘 중에 하나로만 보인다.\n",
    "하지만 단순한 언어 설정의 차이일 뿐 기능은 동일하다.\n",
    ":::"
   ]
  },
  {
   "attachments": {},
   "cell_type": "markdown",
   "metadata": {},
   "source": [
    "큰따옴표로 감싸인 문자열에 작은따옴표를 임의로 포함시킬 수 있다.\n",
    "이는 문자열의 시작과 끝이 작은따옴표에도 불구하고 명확하기 때문이다."
   ]
  },
  {
   "cell_type": "code",
   "execution_count": 37,
   "metadata": {},
   "outputs": [
    {
     "data": {
      "text/plain": [
       "\"doesn't\""
      ]
     },
     "execution_count": 37,
     "metadata": {},
     "output_type": "execute_result"
    }
   ],
   "source": [
    "\"doesn't\""
   ]
  },
  {
   "cell_type": "code",
   "execution_count": 38,
   "metadata": {},
   "outputs": [
    {
     "name": "stdout",
     "output_type": "stream",
     "text": [
      "doesn't\n"
     ]
    }
   ],
   "source": [
    "print(\"doesn't\")"
   ]
  },
  {
   "attachments": {},
   "cell_type": "markdown",
   "metadata": {},
   "source": [
    "동일한 이유로 작은따옴표로 감싸인 문자열이 큰따옴표를 포함해도 된다."
   ]
  },
  {
   "cell_type": "code",
   "execution_count": 39,
   "metadata": {},
   "outputs": [
    {
     "data": {
      "text/plain": [
       "'\"Yes,\" they said.'"
      ]
     },
     "execution_count": 39,
     "metadata": {},
     "output_type": "execute_result"
    }
   ],
   "source": [
    "'\"Yes,\" they said.'"
   ]
  },
  {
   "cell_type": "code",
   "execution_count": 40,
   "metadata": {},
   "outputs": [
    {
     "name": "stdout",
     "output_type": "stream",
     "text": [
      "\"Yes,\" they said.\n"
     ]
    }
   ],
   "source": [
    "print('\"Yes,\" they said.')"
   ]
  },
  {
   "attachments": {},
   "cell_type": "markdown",
   "metadata": {},
   "source": [
    "하지만 큰따옴표로 감싸인 문자열이 큰따옴표를 포함하려면\n",
    "여기서도 백슬래시 기호를 추가해야 한다."
   ]
  },
  {
   "cell_type": "code",
   "execution_count": 41,
   "metadata": {},
   "outputs": [
    {
     "data": {
      "text/plain": [
       "'\"Yes,\" they said.'"
      ]
     },
     "execution_count": 41,
     "metadata": {},
     "output_type": "execute_result"
    }
   ],
   "source": [
    "\"\\\"Yes,\\\" they said.\""
   ]
  },
  {
   "cell_type": "code",
   "execution_count": 42,
   "metadata": {},
   "outputs": [
    {
     "name": "stdout",
     "output_type": "stream",
     "text": [
      "\"Yes,\" they said.\n"
     ]
    }
   ],
   "source": [
    "print(\"\\\"Yes,\\\" they said.\")"
   ]
  },
  {
   "attachments": {},
   "cell_type": "markdown",
   "metadata": {},
   "source": [
    "문자열에 큰따옴표와 작은따옴표가 동시에 포함되면\n",
    "감싸는 따옴표와 동일한 종류의 따옴표는 백슬래시가 추가되어야 한다."
   ]
  },
  {
   "cell_type": "code",
   "execution_count": 43,
   "metadata": {},
   "outputs": [
    {
     "data": {
      "text/plain": [
       "'\"Isn\\'t,\" they said.'"
      ]
     },
     "execution_count": 43,
     "metadata": {},
     "output_type": "execute_result"
    }
   ],
   "source": [
    "'\"Isn\\'t,\" they said.'"
   ]
  },
  {
   "attachments": {},
   "cell_type": "markdown",
   "metadata": {},
   "source": [
    "`print()` 함수는 백슬래시의 모든 특수 기능을 적절히 반영해서 화면에 출력한다."
   ]
  },
  {
   "cell_type": "code",
   "execution_count": 44,
   "metadata": {},
   "outputs": [
    {
     "name": "stdout",
     "output_type": "stream",
     "text": [
      "\"Isn't,\" they said.\n"
     ]
    }
   ],
   "source": [
    "print('\"Isn\\'t,\" they said.')"
   ]
  },
  {
   "attachments": {},
   "cell_type": "markdown",
   "metadata": {},
   "source": [
    "`\\n`은 줄바꿈을 의미하는 문자다."
   ]
  },
  {
   "cell_type": "code",
   "execution_count": 45,
   "metadata": {},
   "outputs": [],
   "source": [
    "s = 'First line.\\nSecond line.'"
   ]
  },
  {
   "attachments": {},
   "cell_type": "markdown",
   "metadata": {},
   "source": [
    "변수 `s` 가 가리키는 문자열은 다음과 같다."
   ]
  },
  {
   "cell_type": "code",
   "execution_count": 46,
   "metadata": {},
   "outputs": [
    {
     "data": {
      "text/plain": [
       "'First line.\\nSecond line.'"
      ]
     },
     "execution_count": 46,
     "metadata": {},
     "output_type": "execute_result"
    }
   ],
   "source": [
    "s"
   ]
  },
  {
   "attachments": {},
   "cell_type": "markdown",
   "metadata": {},
   "source": [
    "`print()` 함수를 이용하면 실제 의도한 대로 두 줄로 표현된다."
   ]
  },
  {
   "cell_type": "code",
   "execution_count": 47,
   "metadata": {},
   "outputs": [
    {
     "name": "stdout",
     "output_type": "stream",
     "text": [
      "First line.\n",
      "Second line.\n"
     ]
    }
   ],
   "source": [
    "print(s)"
   ]
  },
  {
   "attachments": {},
   "cell_type": "markdown",
   "metadata": {},
   "source": [
    "### 날 문자열"
   ]
  },
  {
   "attachments": {},
   "cell_type": "markdown",
   "metadata": {},
   "source": [
    "앞서의 경우처럼 작은따옴표, 큰따옴표, 특수 문자에 대해 백슬래시를 사용하냐,\n",
    "그렇지 않냐를 걱정하는 것 대신에\n",
    "**날 문자열**<font size=\"2\">raw string</font>을 사용하면 보다 편리하다.\n",
    "날 문자열은 문자열 앞에 `r`을 추가해서 얻어지며\n",
    "그러면 문자열 안에 포함된 모든 특수 문자들의 기능이 제거된다."
   ]
  },
  {
   "cell_type": "code",
   "execution_count": 48,
   "metadata": {},
   "outputs": [
    {
     "name": "stdout",
     "output_type": "stream",
     "text": [
      "C:\\some\n",
      "ame\n"
     ]
    }
   ],
   "source": [
    "print('C:\\some\\name')  # 일반 문자열 사용. 줄바꿈 적용됨."
   ]
  },
  {
   "cell_type": "code",
   "execution_count": 49,
   "metadata": {},
   "outputs": [
    {
     "name": "stdout",
     "output_type": "stream",
     "text": [
      "C:\\some\\name\n"
     ]
    }
   ],
   "source": [
    "print(r'C:\\some\\name')  # 날 문자열 사용. 줄바꿈 없음."
   ]
  },
  {
   "attachments": {},
   "cell_type": "markdown",
   "metadata": {},
   "source": [
    "### 여러줄 문자열"
   ]
  },
  {
   "attachments": {},
   "cell_type": "markdown",
   "metadata": {},
   "source": [
    "여러 줄로 작성된 문자열은 항상 세개의 작은따옴표 또는 세 개의 큰따옴표로 감싸져야 한다."
   ]
  },
  {
   "cell_type": "code",
   "execution_count": 50,
   "metadata": {},
   "outputs": [
    {
     "name": "stdout",
     "output_type": "stream",
     "text": [
      "첫째줄\n",
      "둘째줄\n",
      "셋째줄\n"
     ]
    }
   ],
   "source": [
    "print(\"\"\"첫째줄\n",
    "둘째줄\n",
    "셋째줄\"\"\")"
   ]
  },
  {
   "cell_type": "code",
   "execution_count": 51,
   "metadata": {},
   "outputs": [
    {
     "name": "stdout",
     "output_type": "stream",
     "text": [
      "\n",
      "첫째줄\n",
      "둘째줄\n",
      "셋째줄\n",
      "\n"
     ]
    }
   ],
   "source": [
    "print(\"\"\"\n",
    "첫째줄\n",
    "둘째줄\n",
    "셋째줄\n",
    "\"\"\")"
   ]
  },
  {
   "attachments": {},
   "cell_type": "markdown",
   "metadata": {},
   "source": [
    "### 문자열 연산"
   ]
  },
  {
   "attachments": {},
   "cell_type": "markdown",
   "metadata": {},
   "source": [
    "문자열의 `+` 와 `*` 두 기호를 이용한 연산을 지원한다.\n",
    "\n",
    "`+` 연산자는 두 문자열을 이어붙인다."
   ]
  },
  {
   "cell_type": "code",
   "execution_count": 52,
   "metadata": {},
   "outputs": [
    {
     "data": {
      "text/plain": [
       "'hellopython'"
      ]
     },
     "execution_count": 52,
     "metadata": {},
     "output_type": "execute_result"
    }
   ],
   "source": [
    "'hello' + 'python'"
   ]
  },
  {
   "cell_type": "code",
   "execution_count": 53,
   "metadata": {},
   "outputs": [
    {
     "data": {
      "text/plain": [
       "'hello, python'"
      ]
     },
     "execution_count": 53,
     "metadata": {},
     "output_type": "execute_result"
    }
   ],
   "source": [
    "'hello, ' + 'python'"
   ]
  },
  {
   "attachments": {},
   "cell_type": "markdown",
   "metadata": {},
   "source": [
    "`*` 연산자는 정수와 문자열을 인자로 받아 정수 만큼 복제해서 이어붙인다."
   ]
  },
  {
   "cell_type": "code",
   "execution_count": 54,
   "metadata": {},
   "outputs": [
    {
     "data": {
      "text/plain": [
       "'hellohellohello'"
      ]
     },
     "execution_count": 54,
     "metadata": {},
     "output_type": "execute_result"
    }
   ],
   "source": [
    "3 * 'hello'"
   ]
  },
  {
   "cell_type": "code",
   "execution_count": 55,
   "metadata": {},
   "outputs": [
    {
     "data": {
      "text/plain": [
       "'hello, hello, python'"
      ]
     },
     "execution_count": 55,
     "metadata": {},
     "output_type": "execute_result"
    }
   ],
   "source": [
    "2 * 'hello, ' + \"python\""
   ]
  },
  {
   "attachments": {},
   "cell_type": "markdown",
   "metadata": {},
   "source": [
    "### 문자열 길이"
   ]
  },
  {
   "attachments": {},
   "cell_type": "markdown",
   "metadata": {},
   "source": [
    "문자열에 포함된 문자의 개수를 문자열의 길이로 지정한다.\n",
    "`len()` 함수가 문자열의 길이를 계산한다."
   ]
  },
  {
   "cell_type": "code",
   "execution_count": 56,
   "metadata": {},
   "outputs": [],
   "source": [
    "s = 2 * 'hello, ' + \"python\""
   ]
  },
  {
   "cell_type": "code",
   "execution_count": 57,
   "metadata": {},
   "outputs": [
    {
     "data": {
      "text/plain": [
       "20"
      ]
     },
     "execution_count": 57,
     "metadata": {},
     "output_type": "execute_result"
    }
   ],
   "source": [
    "len(s)"
   ]
  },
  {
   "attachments": {},
   "cell_type": "markdown",
   "metadata": {},
   "source": [
    "### 문자열 인덱싱"
   ]
  },
  {
   "attachments": {},
   "cell_type": "markdown",
   "metadata": {},
   "source": [
    "문자열은 문자 여러 개의 나열이며 문자들 사이의 순서가 중요하다.\n",
    "이때 문자열 왼편에 위치한 문자부터 차례대로 0, 1, 2, 3 등의\n",
    "**인덱스**<font size=\"2\">index</font>를 부여받는다.\n",
    "**인덱싱**<font size=\"2\">indexing</font>은 \n",
    "인덱스를 이용하여 문자열의 항목을 확인하는 기능이다."
   ]
  },
  {
   "cell_type": "code",
   "execution_count": 58,
   "metadata": {},
   "outputs": [],
   "source": [
    "word = 'I love Python!'"
   ]
  },
  {
   "cell_type": "code",
   "execution_count": 59,
   "metadata": {},
   "outputs": [
    {
     "data": {
      "text/plain": [
       "'I'"
      ]
     },
     "execution_count": 59,
     "metadata": {},
     "output_type": "execute_result"
    }
   ],
   "source": [
    "word[0]  # 0번 인덱스 문자. 즉, 왼쪽에서 첫번째 문자."
   ]
  },
  {
   "cell_type": "code",
   "execution_count": 60,
   "metadata": {},
   "outputs": [
    {
     "data": {
      "text/plain": [
       "'e'"
      ]
     },
     "execution_count": 60,
     "metadata": {},
     "output_type": "execute_result"
    }
   ],
   "source": [
    "word[5]   # 5번 인덱스 문자. 즉, 왼쪽에서 여섯번째 문자."
   ]
  },
  {
   "attachments": {},
   "cell_type": "markdown",
   "metadata": {},
   "source": [
    "인덱스를 문자열 오른쪽에서부터 차례대로 -1, -2, -3 등 음수로 지정할 수도 있다."
   ]
  },
  {
   "cell_type": "code",
   "execution_count": 61,
   "metadata": {},
   "outputs": [
    {
     "data": {
      "text/plain": [
       "'!'"
      ]
     },
     "execution_count": 61,
     "metadata": {},
     "output_type": "execute_result"
    }
   ],
   "source": [
    "word[-1]  # 맨 오른쪽 문자. 즉 마지막 문자."
   ]
  },
  {
   "cell_type": "code",
   "execution_count": 62,
   "metadata": {},
   "outputs": [
    {
     "data": {
      "text/plain": [
       "'n'"
      ]
     },
     "execution_count": 62,
     "metadata": {},
     "output_type": "execute_result"
    }
   ],
   "source": [
    "word[-2]  # 끝에서 두번째 문자."
   ]
  },
  {
   "cell_type": "code",
   "execution_count": 63,
   "metadata": {},
   "outputs": [
    {
     "data": {
      "text/plain": [
       "'y'"
      ]
     },
     "execution_count": 63,
     "metadata": {},
     "output_type": "execute_result"
    }
   ],
   "source": [
    "word[-6]  # 끝에서 여섯번째 문자."
   ]
  },
  {
   "attachments": {},
   "cell_type": "markdown",
   "metadata": {},
   "source": [
    "### 문자열 슬라이싱"
   ]
  },
  {
   "attachments": {},
   "cell_type": "markdown",
   "metadata": {},
   "source": [
    "**슬라이싱**<font size=\"2\">slicing</font>은 지정된 인덱스의 구간에 해당하는\n",
    "문자들을 추출하여 새로운 문자열을 생성하는 기능이다."
   ]
  },
  {
   "cell_type": "code",
   "execution_count": 64,
   "metadata": {},
   "outputs": [
    {
     "data": {
      "text/plain": [
       "'I '"
      ]
     },
     "execution_count": 64,
     "metadata": {},
     "output_type": "execute_result"
    }
   ],
   "source": [
    "word[0:2]  # 0번 인덱스부터 2번 인덱스 이전까지 추출"
   ]
  },
  {
   "cell_type": "code",
   "execution_count": 65,
   "metadata": {},
   "outputs": [
    {
     "data": {
      "text/plain": [
       "'lov'"
      ]
     },
     "execution_count": 65,
     "metadata": {},
     "output_type": "execute_result"
    }
   ],
   "source": [
    "word[2:5]  # 2번 인덱스부터 5번 인덱스 이전까지 추출"
   ]
  },
  {
   "attachments": {},
   "cell_type": "markdown",
   "metadata": {},
   "source": [
    "구간의 처음과 끝을 생략할 수 있다.\n",
    "그러면 구간의 시작은 0, 구간의 끝은 문자열의 길이에 1을 더한 값으로 자동 지정된다."
   ]
  },
  {
   "cell_type": "code",
   "execution_count": 66,
   "metadata": {},
   "outputs": [
    {
     "data": {
      "text/plain": [
       "'I '"
      ]
     },
     "execution_count": 66,
     "metadata": {},
     "output_type": "execute_result"
    }
   ],
   "source": [
    "word[:2]   # 처음부터 1번 인덱스까지"
   ]
  },
  {
   "cell_type": "code",
   "execution_count": 67,
   "metadata": {},
   "outputs": [
    {
     "data": {
      "text/plain": [
       "'ve Python!'"
      ]
     },
     "execution_count": 67,
     "metadata": {},
     "output_type": "execute_result"
    }
   ],
   "source": [
    "word[4:]   # 4번 인덱스부터 끝까지"
   ]
  },
  {
   "cell_type": "code",
   "execution_count": 68,
   "metadata": {},
   "outputs": [
    {
     "data": {
      "text/plain": [
       "'n!'"
      ]
     },
     "execution_count": 68,
     "metadata": {},
     "output_type": "execute_result"
    }
   ],
   "source": [
    "word[-2:]  # 끝에서 두번째 인덱스부터 끝까지"
   ]
  },
  {
   "cell_type": "code",
   "execution_count": 69,
   "metadata": {},
   "outputs": [
    {
     "data": {
      "text/plain": [
       "'I love Python!'"
      ]
     },
     "execution_count": 69,
     "metadata": {},
     "output_type": "execute_result"
    }
   ],
   "source": [
    "word[:3] + word[3:]"
   ]
  },
  {
   "attachments": {},
   "cell_type": "markdown",
   "metadata": {},
   "source": [
    "**보폭**<font size=\"2\">stride</font>을 사용하여 인덱스를 \n",
    "지정된 보폭만큼 건너 뛰면서 문자를 추출할 수 있다.\n",
    "보폭이 1인 경우는 앞서 본 것처럼 보폭 표기를 아예 생략하면 된다."
   ]
  },
  {
   "cell_type": "code",
   "execution_count": 70,
   "metadata": {},
   "outputs": [
    {
     "data": {
      "text/plain": [
       "'lv y'"
      ]
     },
     "execution_count": 70,
     "metadata": {},
     "output_type": "execute_result"
    }
   ],
   "source": [
    "word[2:10:2]  # 2번 인덱스부터 9번 인덱스까지 두 개씩 건너뛰며 추출"
   ]
  },
  {
   "attachments": {},
   "cell_type": "markdown",
   "metadata": {},
   "source": [
    "-1을 보폭으로 지정하면 오른쪽에서 왼쪽으로 역순으로 추출한다."
   ]
  },
  {
   "cell_type": "code",
   "execution_count": 71,
   "metadata": {},
   "outputs": [
    {
     "data": {
      "text/plain": [
       "'!nohtyP evol I'"
      ]
     },
     "execution_count": 71,
     "metadata": {},
     "output_type": "execute_result"
    }
   ],
   "source": [
    "word[::-1]  # 문자열 뒤집기"
   ]
  },
  {
   "cell_type": "code",
   "execution_count": 72,
   "metadata": {},
   "outputs": [
    {
     "data": {
      "text/plain": [
       "'nhy'"
      ]
     },
     "execution_count": 72,
     "metadata": {},
     "output_type": "execute_result"
    }
   ],
   "source": [
    "word[-2:-8:-2]  # 끝에서 두번째 인덱스부터 끝에서 일곱번째 인덱스까지 두 개씩 건너뛰며 추출"
   ]
  },
  {
   "attachments": {},
   "cell_type": "markdown",
   "metadata": {},
   "source": [
    "문자열의 길이에 해당하는 범주를 벗어나는 인덱스를 사용하면 오류가 발생한다.\n",
    "\n",
    "```python\n",
    ">>> word[42]\n",
    "Traceback (most recent call last):\n",
    "  File \"<stdin>\", line 1, in <module>\n",
    "IndexError: string index out of range\n",
    "```"
   ]
  },
  {
   "attachments": {},
   "cell_type": "markdown",
   "metadata": {},
   "source": [
    "반면에 슬라이싱에서는 자동으로 문자열의 처음과 끝을 한계로 사용한다."
   ]
  },
  {
   "cell_type": "code",
   "execution_count": 73,
   "metadata": {},
   "outputs": [
    {
     "data": {
      "text/plain": [
       "'ve Python!'"
      ]
     },
     "execution_count": 73,
     "metadata": {},
     "output_type": "execute_result"
    }
   ],
   "source": [
    "word[4:42]"
   ]
  },
  {
   "cell_type": "code",
   "execution_count": 74,
   "metadata": {},
   "outputs": [
    {
     "data": {
      "text/plain": [
       "''"
      ]
     },
     "execution_count": 74,
     "metadata": {},
     "output_type": "execute_result"
    }
   ],
   "source": [
    "word[42:]"
   ]
  },
  {
   "attachments": {},
   "cell_type": "markdown",
   "metadata": {},
   "source": [
    "### 문자열 수정 가능성"
   ]
  },
  {
   "attachments": {},
   "cell_type": "markdown",
   "metadata": {},
   "source": [
    "한 번 생성된 문자열은 수정이 불가능<font size=\"2\">immutable</font>하다.\n",
    "예를 들어 다음과 같이 인덱싱 또는 슬라이싱을 이용하여\n",
    "문자열을 수정하고자 하면 오류가 발생한다.\n",
    "\n",
    "```python\n",
    ">>> word[0] = 'J'\n",
    "Traceback (most recent call last):\n",
    "  File \"<stdin>\", line 1, in <module>\n",
    "TypeError: 'str' object does not support item assignment\n",
    "\n",
    ">>> word[2:] = 'py'\n",
    "Traceback (most recent call last):\n",
    "  File \"<stdin>\", line 1, in <module>\n",
    "TypeError: 'str' object does not support item assignment\n",
    "```"
   ]
  },
  {
   "attachments": {},
   "cell_type": "markdown",
   "metadata": {},
   "source": [
    "문자열을 수정하는 대신 인덱싱, 슬라이싱, 문자열 연산을 활용하여 \n",
    "필요한 문자열을 생성해야 한다."
   ]
  },
  {
   "cell_type": "code",
   "execution_count": 75,
   "metadata": {},
   "outputs": [
    {
     "data": {
      "text/plain": [
       "'You love Python!'"
      ]
     },
     "execution_count": 75,
     "metadata": {},
     "output_type": "execute_result"
    }
   ],
   "source": [
    "'You' + word[1:]"
   ]
  },
  {
   "attachments": {},
   "cell_type": "markdown",
   "metadata": {},
   "source": [
    "## 리스트"
   ]
  },
  {
   "attachments": {},
   "cell_type": "markdown",
   "metadata": {},
   "source": [
    "파이썬은 여러 개의 값을 하나로 묶어 다룰 수 있는 자료형을 지원한다.\n",
    "여기서는 **리스트**<font size=\"2\">list</font>를 간단히 소개한다.\n",
    "리스트는 임의의 값을 **항목**<font size=\"2\">item</font>으로 여러 개 포함할 수 있다. \n",
    "서로 다른 자료형의 항목을 포함할 수도 있다."
   ]
  },
  {
   "cell_type": "code",
   "execution_count": 76,
   "metadata": {},
   "outputs": [],
   "source": [
    "name_age = [\"홍길동\", 22]"
   ]
  },
  {
   "attachments": {},
   "cell_type": "markdown",
   "metadata": {},
   "source": [
    "하지만 동일한 자료형의 값들로 이루어지는 것이 일반적이다."
   ]
  },
  {
   "cell_type": "code",
   "execution_count": 77,
   "metadata": {},
   "outputs": [
    {
     "data": {
      "text/plain": [
       "[1, 4, 9, 16, 25]"
      ]
     },
     "execution_count": 77,
     "metadata": {},
     "output_type": "execute_result"
    }
   ],
   "source": [
    "squares = [1, 4, 9, 16, 25]\n",
    "squares"
   ]
  },
  {
   "attachments": {},
   "cell_type": "markdown",
   "metadata": {},
   "source": [
    "### 리스트 인덱싱과 슬라이싱"
   ]
  },
  {
   "attachments": {},
   "cell_type": "markdown",
   "metadata": {},
   "source": [
    "문자열 자료형처럼 리스트 자료형도 인덱싱과 슬라이싱 기능을 지원하며\n",
    "사용법은 사실상 동일하다.\n",
    "다만 왼편에 위치한 항목부터 0, 1, 2, 3 등으로 인덱스를 지정할 뿐이다."
   ]
  },
  {
   "cell_type": "code",
   "execution_count": 78,
   "metadata": {},
   "outputs": [
    {
     "data": {
      "text/plain": [
       "1"
      ]
     },
     "execution_count": 78,
     "metadata": {},
     "output_type": "execute_result"
    }
   ],
   "source": [
    "squares[0]"
   ]
  },
  {
   "cell_type": "code",
   "execution_count": 79,
   "metadata": {},
   "outputs": [
    {
     "data": {
      "text/plain": [
       "25"
      ]
     },
     "execution_count": 79,
     "metadata": {},
     "output_type": "execute_result"
    }
   ],
   "source": [
    "squares[-1]"
   ]
  },
  {
   "cell_type": "code",
   "execution_count": 80,
   "metadata": {},
   "outputs": [
    {
     "data": {
      "text/plain": [
       "[9, 16, 25]"
      ]
     },
     "execution_count": 80,
     "metadata": {},
     "output_type": "execute_result"
    }
   ],
   "source": [
    "squares[-3:]"
   ]
  },
  {
   "cell_type": "code",
   "execution_count": 81,
   "metadata": {},
   "outputs": [
    {
     "data": {
      "text/plain": [
       "[1, 4, 9, 16, 25]"
      ]
     },
     "execution_count": 81,
     "metadata": {},
     "output_type": "execute_result"
    }
   ],
   "source": [
    "squares[:]"
   ]
  },
  {
   "attachments": {},
   "cell_type": "markdown",
   "metadata": {},
   "source": [
    "### 리스트 연산"
   ]
  },
  {
   "attachments": {},
   "cell_type": "markdown",
   "metadata": {},
   "source": [
    "`+` 연산자는 두 개의 리스트를 이어붙인다."
   ]
  },
  {
   "cell_type": "code",
   "execution_count": 82,
   "metadata": {},
   "outputs": [
    {
     "data": {
      "text/plain": [
       "[1, 4, 9, 16, 25, 36, 49, 64, 81, 100]"
      ]
     },
     "execution_count": 82,
     "metadata": {},
     "output_type": "execute_result"
    }
   ],
   "source": [
    "squares + [36, 49, 64, 81, 100]"
   ]
  },
  {
   "attachments": {},
   "cell_type": "markdown",
   "metadata": {},
   "source": [
    "### 리스트 길이"
   ]
  },
  {
   "attachments": {},
   "cell_type": "markdown",
   "metadata": {},
   "source": [
    "리스트의 길이는 포함된 항목의 개수이며, 문자열의 경우처럼 `len()` 함수로 계산된다."
   ]
  },
  {
   "cell_type": "code",
   "execution_count": 83,
   "metadata": {},
   "outputs": [
    {
     "data": {
      "text/plain": [
       "5"
      ]
     },
     "execution_count": 83,
     "metadata": {},
     "output_type": "execute_result"
    }
   ],
   "source": [
    "len(squares)"
   ]
  },
  {
   "attachments": {},
   "cell_type": "markdown",
   "metadata": {},
   "source": [
    "### 리스트 수정 가능성"
   ]
  },
  {
   "attachments": {},
   "cell_type": "markdown",
   "metadata": {},
   "source": [
    "리스트는 항목 변경, 항목 추가 등 수정이 가능<font size=\"2\">mutable</font>하다."
   ]
  },
  {
   "attachments": {},
   "cell_type": "markdown",
   "metadata": {},
   "source": [
    "**항목 수정**\n",
    "\n",
    "예를 들어 1부터 5까지 자연수의 세제곱으로 이루어진 리스트를 다음과 같이 정의하자."
   ]
  },
  {
   "cell_type": "code",
   "execution_count": 84,
   "metadata": {},
   "outputs": [],
   "source": [
    "cubes = [1, 8, 27, 65, 125]"
   ]
  },
  {
   "attachments": {},
   "cell_type": "markdown",
   "metadata": {},
   "source": [
    "그런데 4의 세제곱은 65가 아니라 64이다."
   ]
  },
  {
   "cell_type": "code",
   "execution_count": 85,
   "metadata": {},
   "outputs": [
    {
     "data": {
      "text/plain": [
       "64"
      ]
     },
     "execution_count": 85,
     "metadata": {},
     "output_type": "execute_result"
    }
   ],
   "source": [
    "4 ** 3"
   ]
  },
  {
   "attachments": {},
   "cell_type": "markdown",
   "metadata": {},
   "source": [
    "그래서 3번 인덱스 항목을 64로 수정해야 한다."
   ]
  },
  {
   "cell_type": "code",
   "execution_count": 86,
   "metadata": {},
   "outputs": [],
   "source": [
    "cubes[3] = 64"
   ]
  },
  {
   "attachments": {},
   "cell_type": "markdown",
   "metadata": {},
   "source": [
    "3번 인덱스 값이 수정되었다."
   ]
  },
  {
   "cell_type": "code",
   "execution_count": 87,
   "metadata": {},
   "outputs": [
    {
     "data": {
      "text/plain": [
       "[1, 8, 27, 64, 125]"
      ]
     },
     "execution_count": 87,
     "metadata": {},
     "output_type": "execute_result"
    }
   ],
   "source": [
    "cubes"
   ]
  },
  {
   "attachments": {},
   "cell_type": "markdown",
   "metadata": {},
   "source": [
    "**항목 추가**\n",
    "\n",
    "예를 들어 6의 세제곱을 `cubes` 리스트의 오른쪽 끝에 새로운 항목으로 다음과 같이 추가할 수 있다."
   ]
  },
  {
   "cell_type": "code",
   "execution_count": 88,
   "metadata": {},
   "outputs": [],
   "source": [
    "cubes.append(6 ** 3)"
   ]
  },
  {
   "attachments": {},
   "cell_type": "markdown",
   "metadata": {},
   "source": [
    "7의 세제곱도 추가하자."
   ]
  },
  {
   "cell_type": "code",
   "execution_count": 89,
   "metadata": {},
   "outputs": [],
   "source": [
    "cubes.append(7 ** 3)"
   ]
  },
  {
   "attachments": {},
   "cell_type": "markdown",
   "metadata": {},
   "source": [
    "리스트가 확장되었다."
   ]
  },
  {
   "cell_type": "code",
   "execution_count": 90,
   "metadata": {},
   "outputs": [
    {
     "data": {
      "text/plain": [
       "[1, 8, 27, 64, 125, 216, 343]"
      ]
     },
     "execution_count": 90,
     "metadata": {},
     "output_type": "execute_result"
    }
   ],
   "source": [
    "cubes"
   ]
  },
  {
   "attachments": {},
   "cell_type": "markdown",
   "metadata": {},
   "source": [
    "**슬라이싱 대체**\n",
    "\n",
    "슬라이싱으로 리스트의 특정 구간을 다른 리스트로 대체할 수 있다."
   ]
  },
  {
   "cell_type": "code",
   "execution_count": 91,
   "metadata": {},
   "outputs": [
    {
     "data": {
      "text/plain": [
       "['a', 'b', 'c', 'd', 'e', 'f', 'g']"
      ]
     },
     "execution_count": 91,
     "metadata": {},
     "output_type": "execute_result"
    }
   ],
   "source": [
    "letters = ['a', 'b', 'c', 'd', 'e', 'f', 'g']\n",
    "letters"
   ]
  },
  {
   "attachments": {},
   "cell_type": "markdown",
   "metadata": {},
   "source": [
    "소문자 'c', 'd', 'e' 를 대문자 'C', 'D', 'E' 로 변경하려면\n",
    "2번 인덱스부터 4번 인덱스까지를 대상으로 슬라이싱 대체를 적용한다."
   ]
  },
  {
   "cell_type": "code",
   "execution_count": 92,
   "metadata": {},
   "outputs": [
    {
     "data": {
      "text/plain": [
       "['a', 'b', 'C', 'D', 'E', 'f', 'g']"
      ]
     },
     "execution_count": 92,
     "metadata": {},
     "output_type": "execute_result"
    }
   ],
   "source": [
    "letters[2:5] = ['C', 'D', 'E']\n",
    "letters"
   ]
  },
  {
   "attachments": {},
   "cell_type": "markdown",
   "metadata": {},
   "source": [
    "슬라이싱 구간에 포함된 항목의 개수와 대체되는 리스트의 길이가 다를 수 있다.\n",
    "예를 들어 2번 인덱스부터 4번 인덱스까지의 항목을 삭제하려면\n",
    "다음과 같이 빈 리스트로 대체하면 된다."
   ]
  },
  {
   "cell_type": "code",
   "execution_count": 93,
   "metadata": {},
   "outputs": [
    {
     "data": {
      "text/plain": [
       "['a', 'b', 'f', 'g']"
      ]
     },
     "execution_count": 93,
     "metadata": {},
     "output_type": "execute_result"
    }
   ],
   "source": [
    "letters[2:5] = []\n",
    "letters"
   ]
  },
  {
   "attachments": {},
   "cell_type": "markdown",
   "metadata": {},
   "source": [
    "물론 항목 적체를 삭체할 수도 있다."
   ]
  },
  {
   "cell_type": "code",
   "execution_count": 94,
   "metadata": {},
   "outputs": [
    {
     "data": {
      "text/plain": [
       "[]"
      ]
     },
     "execution_count": 94,
     "metadata": {},
     "output_type": "execute_result"
    }
   ],
   "source": [
    "letters[:] = []\n",
    "letters"
   ]
  },
  {
   "attachments": {},
   "cell_type": "markdown",
   "metadata": {},
   "source": [
    "### 중첩 리스트"
   ]
  },
  {
   "attachments": {},
   "cell_type": "markdown",
   "metadata": {},
   "source": [
    "리스트의 항목으로 임의의 값이 사용될 수 있으며\n",
    "따라서 다른 리스트로 가능하다."
   ]
  },
  {
   "cell_type": "code",
   "execution_count": 95,
   "metadata": {},
   "outputs": [],
   "source": [
    "a = ['a', 'b', 'c']\n",
    "n = [1, 2, 3]\n",
    "x = [a, n]"
   ]
  },
  {
   "cell_type": "code",
   "execution_count": 96,
   "metadata": {},
   "outputs": [
    {
     "data": {
      "text/plain": [
       "[['a', 'b', 'c'], [1, 2, 3]]"
      ]
     },
     "execution_count": 96,
     "metadata": {},
     "output_type": "execute_result"
    }
   ],
   "source": [
    "x"
   ]
  },
  {
   "cell_type": "code",
   "execution_count": 97,
   "metadata": {},
   "outputs": [
    {
     "data": {
      "text/plain": [
       "['a', 'b', 'c']"
      ]
     },
     "execution_count": 97,
     "metadata": {},
     "output_type": "execute_result"
    }
   ],
   "source": [
    "x[0]"
   ]
  },
  {
   "cell_type": "code",
   "execution_count": 98,
   "metadata": {},
   "outputs": [
    {
     "data": {
      "text/plain": [
       "'b'"
      ]
     },
     "execution_count": 98,
     "metadata": {},
     "output_type": "execute_result"
    }
   ],
   "source": [
    "x[0][1]"
   ]
  },
  {
   "attachments": {},
   "cell_type": "markdown",
   "metadata": {},
   "source": [
    "## 파이썬 프로그래밍 맛보기"
   ]
  },
  {
   "attachments": {},
   "cell_type": "markdown",
   "metadata": {},
   "source": [
    "지금까지 살펴본 것은 파이썬 프로그래밍의 가장 간단한 기능들이다.\n",
    "앞으로 본격적으로 파이썬 프로그래밍의 진수를 배우기 전에\n",
    "보다 복잡한 문제를 해결하는 프로그램을 몇 개 살펴본다."
   ]
  },
  {
   "attachments": {},
   "cell_type": "markdown",
   "metadata": {},
   "source": [
    "### `if` 조건문"
   ]
  },
  {
   "attachments": {},
   "cell_type": "markdown",
   "metadata": {},
   "source": [
    "특정 조건의 성립여부에 따라 다른 일을 실행하게 만드는 명령문을 **조건문**이라 부른다. \n",
    "예를 들어 `guess` 와 `secret` 두 변수가 가리키는 값의 등가 여부에 따라\n",
    "다른 문장을 출력하도록 하려면 아래와 같이 한다."
   ]
  },
  {
   "cell_type": "code",
   "execution_count": 17,
   "metadata": {},
   "outputs": [
    {
     "name": "stdout",
     "output_type": "stream",
     "text": [
      "맞았습니다!\n"
     ]
    }
   ],
   "source": [
    "from random import randint\n",
    "\n",
    "secret = 2\n",
    "guess = randint(1, 5)\n",
    "\n",
    "if guess == secret:\n",
    "    print(\"guess\")\n",
    "    print(\"맞았습니다!\")\n",
    "else:\n",
    "    print(\"틀렸습니다!\")"
   ]
  },
  {
   "attachments": {},
   "cell_type": "markdown",
   "metadata": {},
   "source": [
    "(sec:for_loop)=\n",
    "### `for` 반복문"
   ]
  },
  {
   "attachments": {},
   "cell_type": "markdown",
   "metadata": {},
   "source": [
    "`for` 반복문은 문자열과 리스트에 포함된 전체 항목을 대상으로\n",
    "동일한 작업을 실행하고자 할 때 활용되며\n",
    "아래 구문 형식을 사용한다.\n",
    "\n",
    "```python\n",
    "for 변수이름 in 문자열또는리스트:\n",
    "    본문명령문\n",
    "```\n",
    "\n",
    "- '변수이름 in 문자열또는리스트': '변수이름'은 문자열 또는 리스트에 포함된 항목을\n",
    "    왼쪽에서부터 차례대로 가리킨다.\n",
    "- '변수이름'이 현재 가리키고 있는 항목을 대상으로 지정된 '본문명령문'을 실행한다.\n",
    "\n",
    "- '본문명령문' 실행이 완료되면 '변수이름'은 다음 항목을 가리키게 된다.\n",
    "- '변수이름'이 더 이상 가리킬 항목이 없을 때까지 위 과정을 반복한다."
   ]
  },
  {
   "attachments": {},
   "cell_type": "markdown",
   "metadata": {},
   "source": [
    ":::{prf:example}\n",
    ":label: for-loop_str-indexting\n",
    "\n",
    "문자자열에 포함된 문자 각각을 출력하는 코드는 다음과 같다.\n",
    "\n",
    "```python\n",
    "s = \"안녕하세요\"\n",
    "\n",
    "for item in s:\n",
    "    print(item)\n",
    "```\n",
    "\n",
    "```python\n",
    "안\n",
    "녕\n",
    "하\n",
    "세\n",
    "요\n",
    "```\n",
    "\n",
    "`for` 반복문이 실행되는 동안 `item` 변수가 차례대로 `'안'`, `'녕'`, `'하'`, `'세'`, `'요'` 를 가리킬 때마다 출력된다. \n",
    ":::"
   ]
  },
  {
   "attachments": {},
   "cell_type": "markdown",
   "metadata": {},
   "source": [
    ":::{prf:example} 모든 항목의 합\n",
    ":label: for-loop_list-indexing\n",
    "\n",
    "정수 리스트에 포함된 모든 항목의 합을 계산하는 코드는 다음과 같다.\n",
    "\n",
    "```python\n",
    "num_list = [1, 2, 3, 4, 5, 6, 7, 8, 9, 10]\n",
    "\n",
    "sum = 0                # 항목을 차례대로 더한 값. 시작은 0부터.\n",
    "for item in num_list:\n",
    "    sum += item        # sum = sum + item 과 동일한 의미\n",
    "    \n",
    "print(\"모든 항목의 합:\", sum)\n",
    "```\n",
    "\n",
    "```python\n",
    "모든 항목의 합: 55\n",
    "```\n",
    "\n",
    "`for` 반복문이 실행되는 동안 `item` 변수가 1부터 10까지의 수를 \n",
    "차례대로 가리키며 `sum`은 그만큼씩 증가한다.\n",
    "\n",
    "참고: [PythonTutor: for 반복문 활용 모든 항목 합](https://pythontutor.com/visualize.html#code=num_list%20%3D%20%5B1,%202,%203,%204,%205,%206,%207,%208,%209,%2010%5D%0A%0Asum%20%3D%200%0Afor%20item%20in%20num_list%3A%0A%20%20%20%20sum%20%2B%3D%20item%20%20%20%20%20%20%20%20%20%20%20%20%20%23%20sum%20%3D%20sum%20%2B%20item%0A%0Aprint%28sum%29%0A&cumulative=false&curInstr=0&heapPrimitives=nevernest&mode=display&origin=opt-frontend.js&py=3&rawInputLstJSON=%5B%5D&textReferences=false)\n",
    ":::"
   ]
  },
  {
   "attachments": {},
   "cell_type": "markdown",
   "metadata": {},
   "source": [
    ":::{prf:example} 짝수 항목의 합\n",
    ":label: for-loop_even-sum\n",
    "\n",
    "정수 리스트에 포함된 항목 중에서 짝수들만의 합을 계산하는 코드는 다음과 같다.\n",
    "\n",
    "```python\n",
    "num_list = [1, 2, 3, 4, 5, 6, 7, 8, 9, 10]\n",
    "\n",
    "sum = 0               # 항목을 차례대로 더한 값. 시작은 0부터.\n",
    "for item in num_list:\n",
    "    if item % 2 == 0:\n",
    "        sum += item   # 짝수인 경우 합에 추가\n",
    "    \n",
    "print(\"짝수 항목의 합:\", sum)\n",
    "```\n",
    "\n",
    "```python\n",
    "짝수 항목의 합: 30\n",
    "```\n",
    "\n",
    "`item` 변수가 가리키는 값이 짝수일 때만 `sum`에 추가된다.\n",
    ":::"
   ]
  },
  {
   "attachments": {},
   "cell_type": "markdown",
   "metadata": {},
   "source": [
    "### `while` 반복문 "
   ]
  },
  {
   "attachments": {},
   "cell_type": "markdown",
   "metadata": {},
   "source": [
    "`while` 반복문은 특정 조건이 만족되는 동안 동일한 작업을 반복 수행하도록 할 때\n",
    "사용하는 명령문이며 다음 구문 형식으로 사용된다.\n",
    "\n",
    "```python\n",
    "while 조건논리식:\n",
    "    본문명령문\n",
    "```\n",
    "\n",
    "- '조건논리식'이 `while` 반복문이 실행된느 조건을 가리키며,\n",
    "    반드시 콜론으로 끝나야 한다.\n",
    "- `while` 반복문의 '**본문**'<font size=\"2\">body</font> 명령문은\n",
    "    반드시 탭 들여쓰기를 사용해야 한다.\n",
    "    \n",
    "    '본문명령문'의 실행이 완료되면 `while` 반복문의 처음으로 돌아가 \n",
    "    '조건논리식'을 다시 확인하여 참이면\n",
    "    다시 '본문명령문'을 실행하는 과정을 반복한다.\n",
    "    '조건논리식'이 거짓이 되는 순간 `while` 반복문 전체의 실행이 멈추고\n",
    "    다음 명령문이 실행된다."
   ]
  },
  {
   "attachments": {},
   "cell_type": "markdown",
   "metadata": {},
   "source": [
    ":::{prf:example} 모든 항목의 합\n",
    ":label: while-loop_list-indexing\n",
    "\n",
    "while 반복문을 이용하여 정수 리스트에 포함된 모든 항목의 합을 계산하는 코드는 다음과 같다.\n",
    "\n",
    "```python\n",
    "num_list = [1, 2, 3, 4, 5, 6, 7, 8, 9, 10]\n",
    "\n",
    "index = 0\n",
    "sum = 0                          # 항목을 차례대로 더한 값. 시작은 0부터.\n",
    "for index < len(num_list):\n",
    "    sum += num_list[index]       # sum = sum + item 과 동일한 의미\n",
    "    index += 1\n",
    "    \n",
    "print(\"모든 항목의 합:\", sum)\n",
    "```\n",
    "\n",
    "```python\n",
    "모든 항목의 합: 55\n",
    "```\n",
    "\n",
    "`while` 반복문이 실행되는 동안 `index` 변수가 0부터 9까지 차례대로 가리키고\n",
    "그럴 때마다 `sum`은 해당 인덱스의 값만큼씩 증가한다.\n",
    "\n",
    "참고: [PythonTutor: while 반복문 활용 모든 항목 합](https://pythontutor.com/visualize.html#code=num_list%20%3D%20%5B1,%202,%203,%204,%205,%206,%207,%208,%209,%2010%5D%0A%0Asum%20%3D%200%0Aindex%20%3D%200%20%23%20%EC%9D%B8%EB%8D%B1%EC%8A%A4%20%ED%99%9C%EC%9A%A9%0Awhile%20index%20%3C%2010%3A%0A%20%20%20%20sum%20%2B%3D%20num_list%5Bindex%5D%20%20%23%20sum%20%3D%20sum%20%2B%20num_list%5Bindex%5D%0A%20%20%20%20index%20%2B%3D%201%20%20%20%20%20%20%20%20%20%20%20%20%20%20%23%20index%20%3D%20index%20%2B%201%0A%0Aprint%28sum%29%0A&cumulative=false&curInstr=0&heapPrimitives=nevernest&mode=display&origin=opt-frontend.js&py=3&rawInputLstJSON=%5B%5D&textReferences=false)\n",
    ":::"
   ]
  },
  {
   "attachments": {},
   "cell_type": "markdown",
   "metadata": {},
   "source": [
    ":::{prf:example} 짝수 항목의 합\n",
    ":label: while-loop_even_sum\n",
    "\n",
    "while 반복문을 이용하여 정수 리스트에 포함된 모든 짝수 항목의 합을 계산하는 코드는 다음과 같다.\n",
    "\n",
    "```python\n",
    "num_list = [1, 2, 3, 4, 5, 6, 7, 8, 9, 10]\n",
    "\n",
    "index = 0\n",
    "sum = 0                     # 짝수 항목을 차례대로 더한 값. 시작은 0부터.\n",
    "for index < len(num_list):\n",
    "    item = num_list[index]  # item 변수를 선언하면 편함\n",
    "    if item%2 == 0:\n",
    "        sum += item         # sum = sum + item 과 동일한 의미\n",
    "    index += 1\n",
    "    \n",
    "print(\"짝수 항목의 합:\", sum)\n",
    "```\n",
    "\n",
    "```python\n",
    "짝수 항목의 합: 30\n",
    "```\n",
    "\n",
    "`while` 반복문이 실행되는 동안 `index` 변수가 0부터 9까지 차례대로 가리키고\n",
    "해당 인덱스의 값이 짝수일 때마다 `sum`은 그 값만큼씩 증가한다.\n",
    ":::"
   ]
  },
  {
   "attachments": {},
   "cell_type": "markdown",
   "metadata": {},
   "source": [
    "## 연습문제"
   ]
  },
  {
   "attachments": {},
   "cell_type": "markdown",
   "metadata": {},
   "source": [
    "참고: [(실습) 프로그래밍 시작하기](https://colab.research.google.com/github/codingalzi/pybook/blob/master/practices/practice-starting.ipynb)"
   ]
  }
 ],
 "metadata": {
  "kernelspec": {
   "display_name": "Python 3 (ipykernel)",
   "language": "python",
   "name": "python3"
  },
  "language_info": {
   "codemirror_mode": {
    "name": "ipython",
    "version": 3
   },
   "file_extension": ".py",
   "mimetype": "text/x-python",
   "name": "python",
   "nbconvert_exporter": "python",
   "pygments_lexer": "ipython3",
   "version": "3.10.13"
  },
  "vscode": {
   "interpreter": {
    "hash": "6c86b3592b6800d985c04531f2c445f0fa6967131b8dd6395a925f7622e55602"
   }
  }
 },
 "nbformat": 4,
 "nbformat_minor": 4
}
